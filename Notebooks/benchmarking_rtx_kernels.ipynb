{
 "cells": [
  {
   "cell_type": "markdown",
   "id": "efb45c29-0568-403c-9236-7e42ffaf258b",
   "metadata": {},
   "source": [
    "### Solar Radiation Pressure: Various contributions\n",
    "\n",
    "In this example we will compute the solar radiation pressure on a simple object and analyze the different contributions\n",
    "- Specular reflection\n",
    "- Secondary specular reflection\n",
    "- Diffusion"
   ]
  },
  {
   "cell_type": "code",
   "execution_count": 1,
   "id": "95771264-8541-4701-9a97-79926c4e98b8",
   "metadata": {},
   "outputs": [
    {
     "name": "stderr",
     "output_type": "stream",
     "text": [
      "/Users/gcasciol/opt/anaconda3/envs/py38/lib/python3.8/site-packages/scipy/__init__.py:146: UserWarning: A NumPy version >=1.16.5 and <1.23.0 is required for this version of SciPy (detected version 1.24.3\n",
      "  warnings.warn(f\"A NumPy version >={np_minversion} and <{np_maxversion}\"\n"
     ]
    }
   ],
   "source": [
    "from pyRTX.classes.Spacecraft import Spacecraft\n",
    "from pyRTX.classes.RayTracer import RayTracer\n",
    "from pyRTX.classes.PixelPlane import PixelPlane\n",
    "from pyRTX.classes.SRP import SolarPressure\n",
    "from pyRTX.core.analysis_utils import get_spacecraft_area\n",
    "import trimesh as tm\n",
    "import numpy as np\n",
    "import matplotlib.pyplot as plt\n",
    "import timeit"
   ]
  },
  {
   "cell_type": "code",
   "execution_count": 2,
   "id": "7773fb04-f113-4e2f-abef-ec469e926c4e",
   "metadata": {},
   "outputs": [],
   "source": [
    "mesh = tm.creation.annulus(0.5,1,height = 0.5)\n",
    "flux = 1361 # W/m2\n",
    "mass = 100\n",
    "\n"
   ]
  },
  {
   "cell_type": "markdown",
   "id": "8c6292d7-0b2d-48fd-ab96-14172950b84c",
   "metadata": {},
   "source": [
    "Let's define a spacecraft object"
   ]
  },
  {
   "cell_type": "code",
   "execution_count": 3,
   "id": "35b1a595-8504-4ee3-9780-634a6aec8653",
   "metadata": {},
   "outputs": [],
   "source": [
    "sc = Spacecraft( \n",
    "            name = 'My Spacecraft',\n",
    "            base_frame = 'SC Frame', # Name of the spacecraft body-fixed frame\n",
    "        \n",
    "            spacecraft_model = { \n",
    "       \n",
    "            \n",
    "            'Bus': { \n",
    "                'file' : mesh, \n",
    "                'frame_type': 'UD', # type of frame (can be 'Spice' or 'UD'= User Defined)\n",
    "                'frame_name': 'SC Bus', # Name of the frame\n",
    "                'center': [0.0,0.0,0.0], # Origin of the component\n",
    "                'diffuse': 0.1, # Diffuse reflect. coefficient\n",
    "                'specular': 0.3, # Specular reflect. coefficient\n",
    "                \n",
    "                \n",
    "            },\n",
    "            },\n",
    "\n",
    "\n",
    "                )\n",
    "\n",
    "#### TODOOOO\n",
    "####\n",
    "### Check the area computation!!!\n",
    "#print(get_spacecraft_area(sc))"
   ]
  },
  {
   "cell_type": "code",
   "execution_count": 4,
   "id": "b5ca7aa2-8ebb-4a7f-8af2-300b50d43486",
   "metadata": {},
   "outputs": [
    {
     "name": "stdout",
     "output_type": "stream",
     "text": [
      "Results for kernel = Embree3\n",
      "23.2 ms ± 1.51 ms per loop (mean ± std. dev. of 7 runs, 5 loops each)\n",
      "srp_value = [5.825e-11 3.003e-13 2.314e-14 8.725e-15]\n",
      "___________________________________________\n",
      "\n",
      "Results for kernel = Native\n",
      "2.51 s ± 234 ms per loop (mean ± std. dev. of 7 runs, 5 loops each)\n",
      "srp_value = [5.856e-11 3.020e-13 2.286e-14 8.428e-15]\n",
      "___________________________________________\n",
      "\n",
      "Results for kernel = Embree\n",
      "38.2 ms ± 1.76 ms per loop (mean ± std. dev. of 7 runs, 5 loops each)\n",
      "srp_value = [5.841e-11 3.019e-13 2.330e-14 8.800e-15]\n",
      "___________________________________________\n",
      "\n"
     ]
    }
   ],
   "source": [
    "RA = 0\n",
    "DEC = 3*np.pi/180\n",
    "\n",
    "pixelPlane = PixelPlane(\n",
    "        spacecraft = 'None',\n",
    "        mode = 'Fixed',\n",
    "        distance = 3,\n",
    "        width = 2,\n",
    "        height = 2,\n",
    "        ray_spacing = 0.01,\n",
    "        lon = RA,\n",
    "        lat = DEC,\n",
    "        units = 'm',\n",
    ")\n",
    "\n",
    "\n",
    "kernels = ['Embree3', 'Native', 'Embree']\n",
    "\n",
    "for k in kernels:\n",
    "    rtx = RayTracer(sc, \n",
    "                pixelPlane, \n",
    "                kernel = k, \n",
    "                bounces = 4, \n",
    "                diffusion = False, \n",
    "                num_diffuse = 10)\n",
    "\n",
    "\n",
    "\n",
    "    srp = SolarPressure(sc, rtx, baseflux = None, grouped = False)\n",
    "    print('Results for kernel = {}'.format(k))\n",
    "    %timeit -n 5 accel = np.array(srp.compute(0)) * flux/mass\n",
    "    accel = np.array(srp.compute(0)) * flux/mass\n",
    "    print('srp_value = {}'.format(np.linalg.norm(accel, axis = 1)))\n",
    "    print('___________________________________________\\n')"
   ]
  },
  {
   "cell_type": "code",
   "execution_count": null,
   "id": "398dfae4-eb86-4c78-bab7-2683422a8ccd",
   "metadata": {},
   "outputs": [],
   "source": []
  },
  {
   "cell_type": "code",
   "execution_count": 5,
   "id": "608e76f1-cd20-433c-a270-188e89eb9467",
   "metadata": {},
   "outputs": [
    {
     "name": "stdout",
     "output_type": "stream",
     "text": [
      "Found bounces 4\n"
     ]
    },
    {
     "data": {
      "image/png": "[encoded data removed]",
      "text/plain": [
       "<Figure size 640x480 with 1 Axes>"
      ]
     },
     "metadata": {},
     "output_type": "display_data"
    }
   ],
   "source": [
    "print(f'Found bounces {len(accel)}')\n",
    "\n",
    "fig, ax = plt.subplots()\n",
    "ax.bar(np.arange(1, len(accel)+1), np.linalg.norm(accel, axis = 1))\n",
    "ax.set_yscale('log')\n",
    "ax.set_ylabel('Acceleration [km/s2]')\n",
    "ax.set_xlabel('Bounce number')\n",
    "ax.set_xticks(np.arange(1, len(accel)+1));"
   ]
  },
  {
   "cell_type": "code",
   "execution_count": null,
   "id": "ac164c70-5c10-4bc1-b3ed-62bd6fe14896",
   "metadata": {},
   "outputs": [],
   "source": []
  },
  {
   "cell_type": "code",
   "execution_count": null,
   "id": "6f36b57d-6c6f-402a-803d-438746804f0f",
   "metadata": {},
   "outputs": [],
   "source": []
  }
 ],
 "metadata": {
  "kernelspec": {
   "display_name": "py38",
   "language": "python",
   "name": "py38"
  },
  "language_info": {
   "codemirror_mode": {
    "name": "ipython",
    "version": 3
   },
   "file_extension": ".py",
   "mimetype": "text/x-python",
   "name": "python",
   "nbconvert_exporter": "python",
   "pygments_lexer": "ipython3",
   "version": "3.8.16"
  }
 },
 "nbformat": 4,
 "nbformat_minor": 5
}
